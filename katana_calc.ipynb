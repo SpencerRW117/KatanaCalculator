{
 "cells": [
  {
   "cell_type": "markdown",
   "metadata": {},
   "source": [
    "# Katana Calcualtor \n",
    "Do stuff for Robbie"
   ]
  },
  {
   "cell_type": "markdown",
   "metadata": {},
   "source": [
    "### Enter your current number of nodes, your current number of rewards, the current price (no $ sign, ex: 1.35), and the current daily rewards per node. "
   ]
  },
  {
   "cell_type": "code",
   "execution_count": 1,
   "metadata": {},
   "outputs": [
    {
     "data": {
      "application/vnd.jupyter.widget-view+json": {
       "model_id": "d92e25f4c2d34e9e8555be80202a5364",
       "version_major": 2,
       "version_minor": 0
      },
      "text/plain": [
       "Tab(children=(VBox(children=(FloatText(value=0.0, description='Nodes:'), FloatText(value=0.0, description='Use…"
      ]
     },
     "metadata": {},
     "output_type": "display_data"
    }
   ],
   "source": [
    "# Inputs and setup\n",
    "import ipywidgets  as widgets\n",
    "import voila\n",
    "import pandas as pd\n",
    "\n",
    "current_price = widgets.FloatText(value=0.00, description='Current Price:', disabled=False)\n",
    "current_nodes = widgets.FloatText(value=0, description='Nodes:', disabled=False)\n",
    "current_rewards = widgets.FloatText(value=0, description='User Rewards:', disabled=False)\n",
    "daily_rewards = widgets.FloatText(value=0, description='Daily Reward Amount:', disabled=False)\n",
    "node_cost = widgets.FloatText(value=0, description='Node Cost', disabled=False)\n",
    "\n",
    "\n",
    "items = widgets.VBox([current_nodes,current_rewards, current_price, daily_rewards, node_cost])\n",
    "children = [items]\n",
    "tab = widgets.Tab()\n",
    "tab.children = children\n",
    "tab.set_title(0, \"User Parameters\")\n",
    "tab"
   ]
  },
  {
   "cell_type": "markdown",
   "metadata": {},
   "source": [
    "### After entering your information in the correct format, click the \"Run calculation button\""
   ]
  },
  {
   "cell_type": "code",
   "execution_count": 4,
   "metadata": {},
   "outputs": [
    {
     "data": {
      "application/vnd.jupyter.widget-view+json": {
       "model_id": "2cea44e9d64c4ef0acd7b51ca1e3aa6e",
       "version_major": 2,
       "version_minor": 0
      },
      "text/plain": [
       "VBox(children=(Button(description='Run Calculation', style=ButtonStyle()), Output()))"
      ]
     },
     "metadata": {},
     "output_type": "display_data"
    }
   ],
   "source": [
    "def on_calculate_click(_):\n",
    "    with out:\n",
    "        out.clear_output()\n",
    "        #Constants for use in calcualtions\n",
    "        NODE_COST = node_cost.value\n",
    "        REWARD_PER_NODE = daily_rewards.value\n",
    "        NODE_GOAL = 100\n",
    "        MONTH_DAYS = 30\n",
    "\n",
    "        #Number of days it takes to get to 100 nodes, increment this.\n",
    "        NUM_DAYS = 0\n",
    "\n",
    "        #User inputted values, consts for pretty output. \n",
    "        initial_nodes = current_nodes.value\n",
    "        initial_rewards = current_rewards.value\n",
    "\n",
    "        #Total values to be edited\n",
    "        total_nodes = current_nodes.value\n",
    "        total_rewards = current_rewards.value \n",
    "\n",
    "        #Price\n",
    "        price = current_price.value\n",
    "        total_usd_earned = 0.0\n",
    "\n",
    "        daily_list = []\n",
    "\n",
    "        while total_nodes < NODE_GOAL:\n",
    "\n",
    "            #print(\"Initial rewards on day\", NUM_DAYS, \":\", total_rewards)\n",
    "            #print(\"Initial nodes on day\", NUM_DAYS, \":\", total_nodes)\n",
    "            \n",
    "            #Day starts, see if we can buy any. \n",
    "            nodes_gained = 0\n",
    "            if total_rewards >= NODE_COST:\n",
    "                while total_rewards >= NODE_COST:\n",
    "                    total_rewards = total_rewards - NODE_COST\n",
    "                    total_nodes = total_nodes + 1\n",
    "                    nodes_gained = nodes_gained + 1\n",
    "\n",
    "\n",
    "            \n",
    "            #After we spend the money, calculate daily earnings\n",
    "\n",
    "            #print(\"Day\", NUM_DAYS,\" earnings:\", (REWARD_PER_NODE * total_nodes))\n",
    "            #print(\"Nodes gained on day\", NUM_DAYS, \":\", nodes_gained)\n",
    "\n",
    "            #Correct to 100 if we're over cap. \n",
    "            if total_nodes > NODE_GOAL:\n",
    "                total_nodes = NODE_GOAL\n",
    "\n",
    "            #print(\"Rewards after buying on day\", NUM_DAYS, \":\", total_rewards)\n",
    "            #print(\"Nodes after buying on day\", NUM_DAYS, \":\", total_nodes)\n",
    "\n",
    "            \n",
    "            \n",
    "\n",
    "            #print(\"Day\", NUM_DAYS, \"USD Earnings: $\", round(daily_usd_earned, 2))\n",
    "\n",
    "            total_rewards = total_rewards + (REWARD_PER_NODE * total_nodes)\n",
    "            daily_usd_earned = total_nodes * REWARD_PER_NODE * price\n",
    "            total_usd_earned = round((total_usd_earned + daily_usd_earned), 2)\n",
    "\n",
    "            NUM_DAYS = NUM_DAYS + 1\n",
    "\n",
    "            daily_list.append([NUM_DAYS, total_nodes, total_rewards, nodes_gained, total_usd_earned])\n",
    "\n",
    "            #print(\"USD to date: $\", round(total_usd_earned), 2)\n",
    "            #print(\"#########\")\n",
    "        \n",
    "        counter = NUM_DAYS\n",
    "        total_monthly_usd = total_usd_earned\n",
    "        \n",
    "        #For the remaining (Month - num) days, add the max rewards per day. \n",
    "        while counter <= MONTH_DAYS:\n",
    "            total_rewards = total_rewards + (NODE_GOAL * REWARD_PER_NODE)\n",
    "            max_node_daily_usd = REWARD_PER_NODE * NODE_GOAL * price\n",
    "            total_monthly_usd = total_monthly_usd + max_node_daily_usd\n",
    "            counter = counter + 1\n",
    "            daily_list.append([counter, NODE_GOAL, total_rewards, 0, total_monthly_usd])\n",
    "    \n",
    "        print(\"Starting with\", initial_nodes, \"nodes and\", initial_rewards, \"rewards it will take\", NUM_DAYS, \"days to reach 100 nodes.\")\n",
    "        print(\"You will have earned a total of $\", round(total_usd_earned, 2), \"in this time.\")\n",
    "        print(\"At the end of 1 month, you will have\", total_rewards, \"rewards and a total monthly earning of $\", round(total_monthly_usd, 2))\n",
    "        df = pd.DataFrame(daily_list, columns=['Day', 'Nodes', 'Rewards', 'Nodes Gained', '$USD'])\n",
    "        print(df.head(60))\n",
    "\n",
    "button = widgets.Button(description = \"Run Calculation\")\n",
    "out = widgets.Output()\n",
    "button.on_click(on_calculate_click)\n",
    "widgets.VBox([button, out])\n"
   ]
  }
 ],
 "metadata": {
  "interpreter": {
   "hash": "1baa965d5efe3ac65b79dfc60c0d706280b1da80fedb7760faf2759126c4f253"
  },
  "kernelspec": {
   "display_name": "Python 3.8.10 64-bit",
   "language": "python",
   "name": "python3"
  },
  "language_info": {
   "codemirror_mode": {
    "name": "ipython",
    "version": 3
   },
   "file_extension": ".py",
   "mimetype": "text/x-python",
   "name": "python",
   "nbconvert_exporter": "python",
   "pygments_lexer": "ipython3",
   "version": "3.8.10"
  },
  "orig_nbformat": 4
 },
 "nbformat": 4,
 "nbformat_minor": 2
}
